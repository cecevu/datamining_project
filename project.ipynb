{
 "cells": [
  {
   "cell_type": "code",
   "execution_count": 1,
   "id": "1a0115f8",
   "metadata": {},
   "outputs": [],
   "source": [
    "import pandas as pd\n",
    "import numpy as np\n",
    "import sklearn as sk\n",
    "import matplotlib.pyplot as plt"
   ]
  },
  {
   "cell_type": "markdown",
   "id": "9c0632f0",
   "metadata": {},
   "source": [
    "## Data Collection ##\n"
   ]
  },
  {
   "cell_type": "code",
   "execution_count": 5,
   "id": "e4131163",
   "metadata": {},
   "outputs": [
    {
     "name": "stdout",
     "output_type": "stream",
     "text": [
      "  Animal ID   Name_x              DateTime_x   MonthYear_x  \\\n",
      "0   A786884   *Brock  01/03/2019 04:19:00 PM  January 2019   \n",
      "1   A706918    Belle  07/05/2015 12:59:00 PM     July 2015   \n",
      "2   A724273  Runster  04/14/2016 06:43:00 PM    April 2016   \n",
      "3   A665644      NaN  10/21/2013 07:59:00 AM  October 2013   \n",
      "4   A682524      Rio  06/29/2014 10:38:00 AM     June 2014   \n",
      "\n",
      "                        Found Location Intake Type Intake Condition  \\\n",
      "0  2501 Magin Meadow Dr in Austin (TX)       Stray           Normal   \n",
      "1     9409 Bluegrass Dr in Austin (TX)       Stray           Normal   \n",
      "2   2818 Palomino Trail in Austin (TX)       Stray           Normal   \n",
      "3                          Austin (TX)       Stray             Sick   \n",
      "4        800 Grove Blvd in Austin (TX)       Stray           Normal   \n",
      "\n",
      "  Animal Type_x Sex upon Intake Age upon Intake  ...              DateTime_y  \\\n",
      "0           Dog   Neutered Male         2 years  ...  01/08/2019 03:11:00 PM   \n",
      "1           Dog   Spayed Female         8 years  ...  07/05/2015 03:13:00 PM   \n",
      "2           Dog     Intact Male       11 months  ...  04/21/2016 05:17:00 PM   \n",
      "3           Cat   Intact Female         4 weeks  ...  10/21/2013 11:39:00 AM   \n",
      "4           Dog   Neutered Male         4 years  ...  07/02/2014 02:16:00 PM   \n",
      "\n",
      "  MonthYear_y Date of Birth     Outcome Type Outcome Subtype Animal Type_y  \\\n",
      "0    Jan 2019    01/03/2017         Transfer         Partner           Dog   \n",
      "1    Jul 2015    07/05/2007  Return to Owner             NaN           Dog   \n",
      "2    Apr 2016    04/17/2015  Return to Owner             NaN           Dog   \n",
      "3    Oct 2013    09/21/2013         Transfer         Partner           Cat   \n",
      "4    Jul 2014    06/29/2010  Return to Owner             NaN           Dog   \n",
      "\n",
      "  Sex upon Outcome Age upon Outcome                                Breed_y  \\\n",
      "0    Neutered Male          2 years                             Beagle Mix   \n",
      "1    Spayed Female          8 years               English Springer Spaniel   \n",
      "2    Neutered Male           1 year                            Basenji Mix   \n",
      "3    Intact Female          4 weeks                 Domestic Shorthair Mix   \n",
      "4    Neutered Male          4 years  Doberman Pinsch/Australian Cattle Dog   \n",
      "\n",
      "       Color_y  \n",
      "0     Tricolor  \n",
      "1  White/Liver  \n",
      "2  Sable/White  \n",
      "3       Calico  \n",
      "4     Tan/Gray  \n",
      "\n",
      "[5 rows x 23 columns]\n"
     ]
    }
   ],
   "source": [
    "data1 = pd.read_csv('Austin_Animal_Center_Intakes.csv')\n",
    "data2 = pd.read_csv('Austin_Animal_Center_Outcomes.csv')\n",
    "\n",
    "data = pd.merge(data1, data2, on='Animal ID', how='inner')\n",
    "print(data.head())"
   ]
  },
  {
   "cell_type": "markdown",
   "id": "6c7b17bc",
   "metadata": {},
   "source": [
    "## Data Cleaning ##\n",
    "Remove data point with any empty colomns"
   ]
  },
  {
   "cell_type": "code",
   "execution_count": 6,
   "id": "b87f22f6",
   "metadata": {},
   "outputs": [],
   "source": [
    "data = data.dropna()"
   ]
  },
  {
   "cell_type": "markdown",
   "id": "d4679dd3",
   "metadata": {},
   "source": [
    "## Feature Selection ##"
   ]
  },
  {
   "cell_type": "code",
   "execution_count": null,
   "id": "cd6f0776",
   "metadata": {},
   "outputs": [],
   "source": []
  }
 ],
 "metadata": {
  "kernelspec": {
   "display_name": "Python 3 (ipykernel)",
   "language": "python",
   "name": "python3"
  },
  "language_info": {
   "codemirror_mode": {
    "name": "ipython",
    "version": 3
   },
   "file_extension": ".py",
   "mimetype": "text/x-python",
   "name": "python",
   "nbconvert_exporter": "python",
   "pygments_lexer": "ipython3",
   "version": "3.9.7"
  }
 },
 "nbformat": 4,
 "nbformat_minor": 5
}
