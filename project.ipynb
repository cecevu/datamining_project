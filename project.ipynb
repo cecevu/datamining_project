{
 "cells": [
  {
   "cell_type": "code",
   "execution_count": 2,
   "id": "1a0115f8",
   "metadata": {},
   "outputs": [],
   "source": [
    "import pandas as pd\n",
    "import numpy as np\n",
    "import sklearn as sk\n",
    "import matplotlib.pyplot as plt"
   ]
  },
  {
   "cell_type": "markdown",
   "id": "9c0632f0",
   "metadata": {},
   "source": [
    "## Data Collection ##\n"
   ]
  },
  {
   "cell_type": "code",
   "execution_count": 3,
   "id": "e4131163",
   "metadata": {},
   "outputs": [
    {
     "name": "stdout",
     "output_type": "stream",
     "text": [
      "Index(['Animal ID', 'Name_x', 'DateTime_x', 'MonthYear_x', 'Found Location',\n",
      "       'Intake Type', 'Intake Condition', 'Animal Type_x', 'Sex upon Intake',\n",
      "       'Age upon Intake', 'Breed_x', 'Color_x', 'Name_y', 'DateTime_y',\n",
      "       'MonthYear_y', 'Date of Birth', 'Outcome Type', 'Outcome Subtype',\n",
      "       'Animal Type_y', 'Sex upon Outcome', 'Age upon Outcome', 'Breed_y',\n",
      "       'Color_y'],\n",
      "      dtype='object')\n"
     ]
    }
   ],
   "source": [
    "data1 = pd.read_csv('Austin_Animal_Center_Intakes.csv')\n",
    "data2 = pd.read_csv('Austin_Animal_Center_Outcomes.csv')\n",
    "\n",
    "data = pd.merge(data1, data2, on='Animal ID', how='inner')\n",
    "print(data.columns)"
   ]
  },
  {
   "cell_type": "markdown",
   "id": "6c7b17bc",
   "metadata": {},
   "source": [
    "## Feature Selection ##\n"
   ]
  },
  {
   "cell_type": "code",
   "execution_count": 4,
   "id": "b87f22f6",
   "metadata": {},
   "outputs": [
    {
     "name": "stdout",
     "output_type": "stream",
     "text": [
      "  Animal ID              DateTime_x Intake Type Intake Condition  \\\n",
      "0   A786884  01/03/2019 04:19:00 PM       Stray           Normal   \n",
      "1   A706918  07/05/2015 12:59:00 PM       Stray           Normal   \n",
      "2   A724273  04/14/2016 06:43:00 PM       Stray           Normal   \n",
      "3   A665644  10/21/2013 07:59:00 AM       Stray             Sick   \n",
      "4   A682524  06/29/2014 10:38:00 AM       Stray           Normal   \n",
      "\n",
      "  Animal Type_x Sex upon Intake Age upon Intake  \\\n",
      "0           Dog   Neutered Male         2 years   \n",
      "1           Dog   Spayed Female         8 years   \n",
      "2           Dog     Intact Male       11 months   \n",
      "3           Cat   Intact Female         4 weeks   \n",
      "4           Dog   Neutered Male         4 years   \n",
      "\n",
      "                                 Breed_x      Color_x              DateTime_y  \\\n",
      "0                             Beagle Mix     Tricolor  01/08/2019 03:11:00 PM   \n",
      "1               English Springer Spaniel  White/Liver  07/05/2015 03:13:00 PM   \n",
      "2                            Basenji Mix  Sable/White  04/21/2016 05:17:00 PM   \n",
      "3                 Domestic Shorthair Mix       Calico  10/21/2013 11:39:00 AM   \n",
      "4  Doberman Pinsch/Australian Cattle Dog     Tan/Gray  07/02/2014 02:16:00 PM   \n",
      "\n",
      "      Outcome Type Sex upon Outcome Age upon Outcome  \n",
      "0         Transfer    Neutered Male          2 years  \n",
      "1  Return to Owner    Spayed Female          8 years  \n",
      "2  Return to Owner    Neutered Male           1 year  \n",
      "3         Transfer    Intact Female          4 weeks  \n",
      "4  Return to Owner    Neutered Male          4 years  \n"
     ]
    },
    {
     "data": {
      "text/plain": [
       "(178310, 13)"
      ]
     },
     "execution_count": 4,
     "metadata": {},
     "output_type": "execute_result"
    }
   ],
   "source": [
    "data = data.drop(columns=['Name_x','MonthYear_x','MonthYear_y','Found Location','Name_y','Animal Type_y','Color_y','Breed_y','Outcome Subtype','Date of Birth'])\n",
    "print(data.head())\n",
    "data.shape"
   ]
  },
  {
   "cell_type": "markdown",
   "id": "d4679dd3",
   "metadata": {},
   "source": [
    "## Data Cleaning ##\n",
    "\n"
   ]
  },
  {
   "cell_type": "code",
   "execution_count": 5,
   "id": "4dd94aec",
   "metadata": {},
   "outputs": [
    {
     "name": "stdout",
     "output_type": "stream",
     "text": [
      "       Animal ID              DateTime_x Intake Type Intake Condition  \\\n",
      "0        A786884  01/03/2019 04:19:00 PM       Stray           Normal   \n",
      "1        A706918  07/05/2015 12:59:00 PM       Stray           Normal   \n",
      "2        A724273  04/14/2016 06:43:00 PM       Stray           Normal   \n",
      "3        A665644  10/21/2013 07:59:00 AM       Stray             Sick   \n",
      "4        A682524  06/29/2014 10:38:00 AM       Stray           Normal   \n",
      "...          ...                     ...         ...              ...   \n",
      "178299   A851458  02/12/2022 04:31:00 PM       Stray           Normal   \n",
      "178300   A851391  02/11/2022 11:19:00 AM       Stray           Normal   \n",
      "178301   A852148  02/25/2022 04:22:00 PM       Stray           Normal   \n",
      "178302   A850397  01/24/2022 08:00:00 AM       Stray          Injured   \n",
      "178303   A851459  02/12/2022 04:31:00 PM       Stray           Normal   \n",
      "\n",
      "       Animal Type_x Sex upon Intake Age upon Intake  \\\n",
      "0                Dog   Neutered Male         2 years   \n",
      "1                Dog   Spayed Female         8 years   \n",
      "2                Dog     Intact Male       11 months   \n",
      "3                Cat   Intact Female         4 weeks   \n",
      "4                Dog   Neutered Male         4 years   \n",
      "...              ...             ...             ...   \n",
      "178299           Dog   Intact Female         5 years   \n",
      "178300           Dog     Intact Male         7 years   \n",
      "178301           Dog     Intact Male         2 years   \n",
      "178302           Dog     Intact Male         2 years   \n",
      "178303           Dog     Intact Male         2 years   \n",
      "\n",
      "                                      Breed_x      Color_x  \\\n",
      "0                                  Beagle Mix     Tricolor   \n",
      "1                    English Springer Spaniel  White/Liver   \n",
      "2                                 Basenji Mix  Sable/White   \n",
      "3                      Domestic Shorthair Mix       Calico   \n",
      "4       Doberman Pinsch/Australian Cattle Dog     Tan/Gray   \n",
      "...                                       ...          ...   \n",
      "178299                   Miniature Poodle Mix   Gray/White   \n",
      "178300                               Shih Tzu   White/Gray   \n",
      "178301              Shih Tzu/Miniature Poodle  Black/White   \n",
      "178302               Cairn Terrier/Lhasa Apso        Cream   \n",
      "178303    Dachshund Longhair/Miniature Poodle  Cream/Brown   \n",
      "\n",
      "                    DateTime_y     Outcome Type Sex upon Outcome  \\\n",
      "0       01/08/2019 03:11:00 PM         Transfer    Neutered Male   \n",
      "1       07/05/2015 03:13:00 PM  Return to Owner    Spayed Female   \n",
      "2       04/21/2016 05:17:00 PM  Return to Owner    Neutered Male   \n",
      "3       10/21/2013 11:39:00 AM         Transfer    Intact Female   \n",
      "4       07/02/2014 02:16:00 PM  Return to Owner    Neutered Male   \n",
      "...                        ...              ...              ...   \n",
      "178299  02/16/2022 10:15:00 AM         Transfer    Intact Female   \n",
      "178300  02/15/2022 10:34:00 AM         Transfer      Intact Male   \n",
      "178301  03/02/2022 08:53:00 AM         Transfer    Neutered Male   \n",
      "178302  02/18/2022 10:10:00 AM         Transfer      Intact Male   \n",
      "178303  02/16/2022 10:16:00 AM         Transfer      Intact Male   \n",
      "\n",
      "       Age upon Outcome  \n",
      "0               2 years  \n",
      "1               8 years  \n",
      "2                1 year  \n",
      "3               4 weeks  \n",
      "4               4 years  \n",
      "...                 ...  \n",
      "178299          5 years  \n",
      "178300          7 years  \n",
      "178301          2 years  \n",
      "178302          2 years  \n",
      "178303          2 years  \n",
      "\n",
      "[111577 rows x 13 columns]\n"
     ]
    }
   ],
   "source": [
    "data = data.dropna()\n",
    "data.drop_duplicates(subset='Animal ID', keep = False, inplace = True)\n",
    "print(data)"
   ]
  },
  {
   "cell_type": "code",
   "execution_count": 6,
   "id": "cd6f0776",
   "metadata": {},
   "outputs": [],
   "source": [
    "for i in range(len(data)):\n",
    "    age = str(data.iloc[i,6])\n",
    "    age2 = str(data.iloc[i,12])\n",
    "    age = age.split()\n",
    "    age2 = age2.split()\n",
    "    if len(age2) < 2 or len(age) < 2:\n",
    "        data.drop(i)\n",
    "        continue\n",
    "    if (age[1] == 'years' or age[1] == 'year'):\n",
    "        data.iloc[i,6] = int(age[0]) * 52\n",
    "    elif (age[1] == 'months' or age[1] == 'month'):\n",
    "        data.iloc[i,6] = int(age[0]) * 4\n",
    "    else:\n",
    "        data.iloc[i,6] = int(age[0])\n",
    "\n",
    "    if (age2[1] == 'years' or age2[1] == 'year'):\n",
    "        data.iloc[i,12] = int(age2[0]) * 52\n",
    "    elif (age2[1] == 'months' or age2[1] == 'month'):\n",
    "        data.iloc[i,12] = int(age2[0]) * 4\n",
    "    else:\n",
    "        data.iloc[i,12] = int(age2[0])\n",
    "\n",
    "#print(data.head())\n"
   ]
  },
  {
   "cell_type": "code",
   "execution_count": 88,
   "id": "17fe0101",
   "metadata": {
    "scrolled": false
   },
   "outputs": [
    {
     "name": "stdout",
     "output_type": "stream",
     "text": [
      "       Animal ID              DateTime_x    Intake Type Intake Condition  \\\n",
      "0        A786884  01/03/2019 04:19:00 PM          Stray           Normal   \n",
      "1        A706918  07/05/2015 12:59:00 PM          Stray           Normal   \n",
      "2        A724273  04/14/2016 06:43:00 PM          Stray           Normal   \n",
      "3        A665644  10/21/2013 07:59:00 AM          Stray             Sick   \n",
      "4        A682524  06/29/2014 10:38:00 AM          Stray           Normal   \n",
      "...          ...                     ...            ...              ...   \n",
      "178305   A672109  09/28/2016 06:25:00 PM  Public Assist           Normal   \n",
      "178306   A672109  02/04/2014 12:25:00 PM          Stray           Normal   \n",
      "178307   A672109  02/04/2014 12:25:00 PM          Stray           Normal   \n",
      "178308   A845912  11/06/2021 03:15:00 PM          Stray         Neonatal   \n",
      "178309   A845912  04/13/2022 01:47:00 PM          Stray           Normal   \n",
      "\n",
      "       Animal Type_x Sex upon Intake Age upon Intake  \\\n",
      "0                Dog   Neutered Male             104   \n",
      "1                Dog   Spayed Female             416   \n",
      "2                Dog     Intact Male              44   \n",
      "3                Cat   Intact Female               4   \n",
      "4                Dog   Neutered Male             208   \n",
      "...              ...             ...             ...   \n",
      "178305           Dog   Neutered Male             208   \n",
      "178306           Dog     Intact Male             104   \n",
      "178307           Dog     Intact Male             104   \n",
      "178308           Dog     Intact Male              24   \n",
      "178309           Dog   Neutered Male              44   \n",
      "\n",
      "                                      Breed_x        Color_x  \\\n",
      "0                                  Beagle Mix       Tricolor   \n",
      "1                    English Springer Spaniel    White/Liver   \n",
      "2                                 Basenji Mix    Sable/White   \n",
      "3                      Domestic Shorthair Mix         Calico   \n",
      "4       Doberman Pinsch/Australian Cattle Dog       Tan/Gray   \n",
      "...                                       ...            ...   \n",
      "178305                           Pit Bull Mix  Brown Brindle   \n",
      "178306                           Pit Bull Mix  Brown Brindle   \n",
      "178307                           Pit Bull Mix  Brown Brindle   \n",
      "178308     Labrador Retriever/Chinese Sharpei    Brown/Brown   \n",
      "178309     Labrador Retriever/Chinese Sharpei    Brown/Brown   \n",
      "\n",
      "                    DateTime_y     Outcome Type Sex upon Outcome  \\\n",
      "0       01/08/2019 03:11:00 PM         Transfer    Neutered Male   \n",
      "1       07/05/2015 03:13:00 PM  Return to Owner    Spayed Female   \n",
      "2       04/21/2016 05:17:00 PM  Return to Owner    Neutered Male   \n",
      "3       10/21/2013 11:39:00 AM         Transfer    Intact Female   \n",
      "4       07/02/2014 02:16:00 PM  Return to Owner    Neutered Male   \n",
      "...                        ...              ...              ...   \n",
      "178305  03/09/2014 02:49:00 PM         Adoption    Neutered Male   \n",
      "178306  10/07/2016 11:33:00 AM  Return to Owner    Neutered Male   \n",
      "178307  03/09/2014 02:49:00 PM         Adoption    Neutered Male   \n",
      "178308  11/15/2021 05:35:00 PM         Adoption    Neutered Male   \n",
      "178309  11/15/2021 05:35:00 PM         Adoption    Neutered Male   \n",
      "\n",
      "       Age upon Outcome  \n",
      "0                   104  \n",
      "1                   416  \n",
      "2                    52  \n",
      "3                     4  \n",
      "4                   208  \n",
      "...                 ...  \n",
      "178305              104  \n",
      "178306              208  \n",
      "178307              104  \n",
      "178308               24  \n",
      "178309               24  \n",
      "\n",
      "[178272 rows x 13 columns]\n"
     ]
    }
   ],
   "source": []
  },
  {
   "cell_type": "code",
   "execution_count": 7,
   "id": "89c56f41",
   "metadata": {},
   "outputs": [
    {
     "name": "stdout",
     "output_type": "stream",
     "text": [
      "       Animal ID              DateTime_x      Intake Type Intake Condition  \\\n",
      "0        A786884  01/03/2019 04:19:00 PM            Stray           Normal   \n",
      "2        A724273  04/14/2016 06:43:00 PM            Stray           Normal   \n",
      "3        A665644  10/21/2013 07:59:00 AM            Stray             Sick   \n",
      "4        A682524  06/29/2014 10:38:00 AM            Stray           Normal   \n",
      "5        A743852  02/18/2017 12:46:00 PM  Owner Surrender           Normal   \n",
      "...          ...                     ...              ...              ...   \n",
      "178299   A851458  02/12/2022 04:31:00 PM            Stray           Normal   \n",
      "178300   A851391  02/11/2022 11:19:00 AM            Stray           Normal   \n",
      "178301   A852148  02/25/2022 04:22:00 PM            Stray           Normal   \n",
      "178302   A850397  01/24/2022 08:00:00 AM            Stray          Injured   \n",
      "178303   A851459  02/12/2022 04:31:00 PM            Stray           Normal   \n",
      "\n",
      "       Animal Type_x Sex upon Intake Age upon Intake  \\\n",
      "0                Dog   Neutered Male             104   \n",
      "2                Dog     Intact Male              44   \n",
      "3                Cat   Intact Female               4   \n",
      "4                Dog   Neutered Male             208   \n",
      "5                Dog   Neutered Male             104   \n",
      "...              ...             ...             ...   \n",
      "178299           Dog   Intact Female             260   \n",
      "178300           Dog     Intact Male             364   \n",
      "178301           Dog     Intact Male             104   \n",
      "178302           Dog     Intact Male             104   \n",
      "178303           Dog     Intact Male             104   \n",
      "\n",
      "                                      Breed_x      Color_x  \\\n",
      "0                                  Beagle Mix     Tricolor   \n",
      "2                                 Basenji Mix  Sable/White   \n",
      "3                      Domestic Shorthair Mix       Calico   \n",
      "4       Doberman Pinsch/Australian Cattle Dog     Tan/Gray   \n",
      "5                      Labrador Retriever Mix    Chocolate   \n",
      "...                                       ...          ...   \n",
      "178299                   Miniature Poodle Mix   Gray/White   \n",
      "178300                               Shih Tzu   White/Gray   \n",
      "178301              Shih Tzu/Miniature Poodle  Black/White   \n",
      "178302               Cairn Terrier/Lhasa Apso        Cream   \n",
      "178303    Dachshund Longhair/Miniature Poodle  Cream/Brown   \n",
      "\n",
      "                    DateTime_y     Outcome Type Sex upon Outcome  \\\n",
      "0       01/08/2019 03:11:00 PM         Transfer    Neutered Male   \n",
      "2       04/21/2016 05:17:00 PM  Return to Owner    Neutered Male   \n",
      "3       10/21/2013 11:39:00 AM         Transfer    Intact Female   \n",
      "4       07/02/2014 02:16:00 PM  Return to Owner    Neutered Male   \n",
      "5       02/21/2017 05:44:00 PM  Return to Owner    Neutered Male   \n",
      "...                        ...              ...              ...   \n",
      "178299  02/16/2022 10:15:00 AM         Transfer    Intact Female   \n",
      "178300  02/15/2022 10:34:00 AM         Transfer      Intact Male   \n",
      "178301  03/02/2022 08:53:00 AM         Transfer    Neutered Male   \n",
      "178302  02/18/2022 10:10:00 AM         Transfer      Intact Male   \n",
      "178303  02/16/2022 10:16:00 AM         Transfer      Intact Male   \n",
      "\n",
      "       Age upon Outcome  \n",
      "0                   104  \n",
      "2                    52  \n",
      "3                     4  \n",
      "4                   208  \n",
      "5                   104  \n",
      "...                 ...  \n",
      "178299              260  \n",
      "178300              364  \n",
      "178301              104  \n",
      "178302              104  \n",
      "178303              104  \n",
      "\n",
      "[101755 rows x 13 columns]\n"
     ]
    }
   ],
   "source": [
    "data = data.loc[(data[\"DateTime_y\"] > data[\"DateTime_x\"])]\n",
    "data.shape\n",
    "print(data)"
   ]
  },
  {
   "cell_type": "code",
   "execution_count": 96,
   "id": "0dfc9919",
   "metadata": {},
   "outputs": [
    {
     "data": {
      "text/plain": [
       "(102555, 13)"
      ]
     },
     "execution_count": 96,
     "metadata": {},
     "output_type": "execute_result"
    }
   ],
   "source": [
    "\n"
   ]
  },
  {
   "cell_type": "code",
   "execution_count": null,
   "id": "2c62e454",
   "metadata": {},
   "outputs": [],
   "source": []
  }
 ],
 "metadata": {
  "kernelspec": {
   "display_name": "Python 3 (ipykernel)",
   "language": "python",
   "name": "python3"
  },
  "language_info": {
   "codemirror_mode": {
    "name": "ipython",
    "version": 3
   },
   "file_extension": ".py",
   "mimetype": "text/x-python",
   "name": "python",
   "nbconvert_exporter": "python",
   "pygments_lexer": "ipython3",
   "version": "3.9.7"
  }
 },
 "nbformat": 4,
 "nbformat_minor": 5
}
